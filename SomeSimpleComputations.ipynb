{
 "cells": [
  {
   "cell_type": "markdown",
   "metadata": {},
   "source": [
    "# Some simple computations"
   ]
  },
  {
   "cell_type": "markdown",
   "metadata": {},
   "source": [
    "The main purpose of this notebook is to illustrate a bit of relatively simple Python code - the kind of code that I expect folks in my numerical analysis classes to be able to read, understand, and emulate. There is some mathematics behind the code that we'll deal with later."
   ]
  },
  {
   "cell_type": "markdown",
   "metadata": {},
   "source": [
    "## The very basics"
   ]
  },
  {
   "cell_type": "markdown",
   "metadata": {},
   "source": [
    "I suppose we outta be able to add two and two!"
   ]
  },
  {
   "cell_type": "code",
   "execution_count": 1,
   "metadata": {},
   "outputs": [
    {
     "data": {
      "text/plain": [
       "4"
      ]
     },
     "execution_count": 1,
     "metadata": {},
     "output_type": "execute_result"
    }
   ],
   "source": [
    "2+2"
   ]
  },
  {
   "cell_type": "markdown",
   "metadata": {},
   "source": [
    "We could define and evaluate a function."
   ]
  },
  {
   "cell_type": "code",
   "execution_count": 2,
   "metadata": {},
   "outputs": [
    {
     "data": {
      "text/plain": [
       "[0, 1, 4, 9, 16]"
      ]
     },
     "execution_count": 2,
     "metadata": {},
     "output_type": "execute_result"
    }
   ],
   "source": [
    "def f(x): return x**2\n",
    "[f(x) for x in range(5)]"
   ]
  },
  {
   "cell_type": "markdown",
   "metadata": {},
   "source": [
    "Many functions must be loaded from a package."
   ]
  },
  {
   "cell_type": "code",
   "execution_count": 3,
   "metadata": {},
   "outputs": [
    {
     "data": {
      "text/plain": [
       "[-1.0,\n",
       " 2.4492935982947064e-16,\n",
       " 1.0,\n",
       " -1.2246467991473532e-16,\n",
       " -1.0,\n",
       " 0.0,\n",
       " 1.0,\n",
       " 1.2246467991473532e-16,\n",
       " -1.0,\n",
       " -2.4492935982947064e-16]"
      ]
     },
     "execution_count": 3,
     "metadata": {},
     "output_type": "execute_result"
    }
   ],
   "source": [
    "from numpy import sin,pi,arange\n",
    "[sin(x) for x in arange(-5*pi/2,5*pi/2,pi/2)]"
   ]
  },
  {
   "cell_type": "markdown",
   "metadata": {},
   "source": [
    "Often, we'll just import the whole package into a namespace and then prepend the namespace. Thus, the previous input could be typed as follows:"
   ]
  },
  {
   "cell_type": "code",
   "execution_count": 4,
   "metadata": {},
   "outputs": [
    {
     "data": {
      "text/plain": [
       "[-1.0,\n",
       " 2.4492935982947064e-16,\n",
       " 1.0,\n",
       " -1.2246467991473532e-16,\n",
       " -1.0,\n",
       " 0.0,\n",
       " 1.0,\n",
       " 1.2246467991473532e-16,\n",
       " -1.0,\n",
       " -2.4492935982947064e-16]"
      ]
     },
     "execution_count": 4,
     "metadata": {},
     "output_type": "execute_result"
    }
   ],
   "source": [
    "import numpy as np\n",
    "[np.sin(x) for x in np.arange(-5*np.pi/2,5*np.pi/2,np.pi/2)]"
   ]
  },
  {
   "cell_type": "markdown",
   "metadata": {},
   "source": [
    "While this might seem like a bit of a pain, it's a nice way to avoid name clashes when working with multiple packages. We'll need to do that when we graphing functions, for example."
   ]
  },
  {
   "cell_type": "code",
   "execution_count": 5,
   "metadata": {},
   "outputs": [
    {
     "data": {
      "text/plain": [
       "[<matplotlib.lines.Line2D at 0x10a2598d0>]"
      ]
     },
     "execution_count": 5,
     "metadata": {},
     "output_type": "execute_result"
    },
    {
     "data": {
      "image/png": "[encoded data removed]",
      "text/plain": [
       "<matplotlib.figure.Figure at 0x109364a20>"
      ]
     },
     "metadata": {},
     "output_type": "display_data"
    }
   ],
   "source": [
    "%matplotlib inline\n",
    "import matplotlib.pyplot as plt\n",
    "import numpy as np\n",
    "x = np.linspace(-2*np.pi,2*np.pi,100)\n",
    "y = np.sin(x)\n",
    "plt.plot(x,y)"
   ]
  },
  {
   "cell_type": "markdown",
   "metadata": {},
   "source": [
    "## A bit more"
   ]
  },
  {
   "cell_type": "markdown",
   "metadata": {},
   "source": [
    "Here's the basic problem: Solve the equation $\\cos(x)=x$. Like a lot of interesting problems, this is very easy to state and understand, but quite hard to solve. It's *impossible* to solve symbolically, in fact! As we'll learn in a few weeks, though, there are fabulous algorithms to find *numerical approximations* to solutions. One of these, called Newton's method, searches for a single *root* of a function close to an initial guess. This is an absolutely fundamental technique in numerical analysis and is implemented in Scipy's `optimize` module as `newton`. Here's how to invoke it to find a solution to our equation near the initial guess $x_0=1$."
   ]
  },
  {
   "cell_type": "code",
   "execution_count": 6,
   "metadata": {},
   "outputs": [
    {
     "data": {
      "text/plain": [
       "0.73908513321516067"
      ]
     },
     "execution_count": 6,
     "metadata": {},
     "output_type": "execute_result"
    }
   ],
   "source": [
    "# import the Numpy library, where the cosine is defined.\n",
    "import numpy as np\n",
    "\n",
    "# import newton\n",
    "from scipy.optimize import newton\n",
    "\n",
    "# define the function whose root is the solution we seek\n",
    "def f(x): return np.cos(x)-x\n",
    "\n",
    "# invoke newton\n",
    "newton(f,1)"
   ]
  },
  {
   "cell_type": "markdown",
   "metadata": {},
   "source": [
    "The comments and spaces are not necessary, so that's really just four lines of code.\n",
    "\n",
    "Like many algorithms, Newton's algorithm is iterative. As it turns out in fact, we can solve the equation by simply iterating the cosine function! We'll learn a bit later why this works but here's how to implement the idea in Python."
   ]
  },
  {
   "cell_type": "code",
   "execution_count": 7,
   "metadata": {},
   "outputs": [
    {
     "data": {
      "text/plain": [
       "(0.73908513664657183, 45)"
      ]
     },
     "execution_count": 7,
     "metadata": {},
     "output_type": "execute_result"
    }
   ],
   "source": [
    "x1 = 1\n",
    "x2 = np.cos(1)\n",
    "cnt = 0\n",
    "while np.abs(x1-x2) > 10**(-8) and cnt < 100:\n",
    "    x1 = x2\n",
    "    x2 = np.cos(x2)\n",
    "    cnt = cnt + 1\n",
    "(x2,cnt)"
   ]
  },
  {
   "cell_type": "markdown",
   "metadata": {},
   "source": [
    "I guess this says that, after 45 iterates, the difference between $x$ and $\\cos(x)$ is less than $1/10^8$. So, we're pretty close."
   ]
  },
  {
   "cell_type": "markdown",
   "metadata": {},
   "source": [
    "The code so far illustrates that there's a couple of libraries that we'll use a lot - NumPy (which implements a lot of relatively low level functionality) and SciPy (which implements higher level functionality built on top of NumPy).\n",
    "\n",
    "Very often, it's nice to visualize your results. There are a number of very nice Python libraries for visualization but one of the most popular and widely used is called Matplotlib. In addition, Matplotlib is included in Anaconda, so that's what we'll use for the most part.\n",
    "\n",
    "My expectation is that you can at least do a little basic plotting with Matplotlib. Here's how to $f(x)=\\cos(x)$ together with the line $y=x$, as well as the point where they are equal."
   ]
  },
  {
   "cell_type": "code",
   "execution_count": 8,
   "metadata": {},
   "outputs": [
    {
     "data": {
      "text/plain": [
       "[<matplotlib.lines.Line2D at 0x10b8a1da0>]"
      ]
     },
     "execution_count": 8,
     "metadata": {},
     "output_type": "execute_result"
    },
    {
     "data": {
      "image/png": "[encoded data removed]",
      "text/plain": [
       "<matplotlib.figure.Figure at 0x108f7a9e8>"
      ]
     },
     "metadata": {},
     "output_type": "display_data"
    }
   ],
   "source": [
    "# A cell magic to run Matplotlib inside the notebook.\n",
    "# Not totally necessary, but sometimes nice.\n",
    "%matplotlib inline\n",
    "\n",
    "# Import the plotting module\n",
    "import matplotlib.pyplot as plt\n",
    "\n",
    "# Set up the x-values we wish to plot.\n",
    "# 100 of them evenly distributed over [-0.2,1.2]\n",
    "xs = np.linspace(-0.2,1.2,100)\n",
    "\n",
    "# Plot the cosine function over those x-values\n",
    "plt.plot(xs,np.cos(xs))\n",
    "\n",
    "# Plot the line y=x\n",
    "plt.plot(xs,xs)\n",
    "\n",
    "# Plot the soution as a red dot.\n",
    "plt.plot(x2,x2,'ro')"
   ]
  },
  {
   "cell_type": "markdown",
   "metadata": {},
   "source": [
    "If we keep track of our orbit as we progress, we can go a bit farther and illustrate the convergence of the orbit with a [cobweb plot](https://en.wikipedia.org/wiki/Cobweb_plot)."
   ]
  },
  {
   "cell_type": "code",
   "execution_count": 9,
   "metadata": {},
   "outputs": [
    {
     "data": {
      "text/plain": [
       "[<matplotlib.lines.Line2D at 0x10b918cc0>]"
      ]
     },
     "execution_count": 9,
     "metadata": {},
     "output_type": "execute_result"
    },
    {
     "data": {
      "image/png": "[encoded data removed]",
      "text/plain": [
       "<matplotlib.figure.Figure at 0x10b809cf8>"
      ]
     },
     "metadata": {},
     "output_type": "display_data"
    }
   ],
   "source": [
    "x0 = .1\n",
    "x1 = x0\n",
    "orbitx = [x1]\n",
    "orbity = [x1]\n",
    "\n",
    "x2 = np.cos(x1)\n",
    "cnt = 0\n",
    "while np.abs(x1-x2) > 10**(-8) and cnt < 100:\n",
    "    orbitx.extend([x1,x2])\n",
    "    orbity.extend([x2,x2])\n",
    "    x1 = x2\n",
    "    x2 = np.cos(x2)\n",
    "    cnt = cnt + 1\n",
    "xs = np.linspace(-0.2,1.2,100)\n",
    "plt.plot(orbitx,orbity)\n",
    "plt.plot(xs,np.cos(xs), 'k', linewidth=2)\n",
    "plt.plot(xs,xs, 'k')\n",
    "plt.plot(x0,x0,'go')\n",
    "plt.plot(x2,x2,'ro')"
   ]
  },
  {
   "cell_type": "markdown",
   "metadata": {},
   "source": [
    "In my own images, I will often go a bit overboard with options to specify things exactly the way I want. I emphasize, this level of graphic detail is not your responsibility!"
   ]
  },
  {
   "cell_type": "code",
   "execution_count": 10,
   "metadata": {},
   "outputs": [
    {
     "data": {
      "image/png": "[encoded data removed]",
      "text/plain": [
       "<matplotlib.figure.Figure at 0x10a33cb38>"
      ]
     },
     "metadata": {},
     "output_type": "display_data"
    }
   ],
   "source": [
    "import matplotlib as mpl\n",
    "plt.plot(orbitx,orbity)\n",
    "plt.plot(xs,np.cos(xs), 'k', linewidth=2)\n",
    "plt.plot(xs,xs, 'k')\n",
    "plt.plot(x0,x0,'go')\n",
    "plt.plot(x2,x2,'ro')\n",
    "\n",
    "ax = plt.gca()\n",
    "ax.set_aspect(1)\n",
    "ax.set_ylim(-0.1,1.1)\n",
    "ax.set_xlim(-0.1,1.1)\n",
    "ax.set_xticks([1/2,1])\n",
    "ax.set_yticks([1/2,1])\n",
    "\n",
    "ax.spines['left'].set_position('zero')\n",
    "ax.spines['right'].set_color('none')\n",
    "ax.spines['bottom'].set_position('zero')\n",
    "ax.spines['top'].set_color('none')\n",
    "\n",
    "xaxis,yaxis = ax.findobj(mpl.axis.Axis)\n",
    "xticks = xaxis.get_major_ticks()\n",
    "for tick in xticks:\n",
    "    tick.get_children()[1].set_color('w')\n",
    "yticks = yaxis.get_major_ticks()\n",
    "for tick in yticks:\n",
    "    tick.get_children()[1].set_color('w')"
   ]
  },
  {
   "cell_type": "markdown",
   "metadata": {},
   "source": [
    "## A disturbing computation"
   ]
  },
  {
   "cell_type": "markdown",
   "metadata": {},
   "source": [
    "Is addition commutative?"
   ]
  },
  {
   "cell_type": "code",
   "execution_count": 11,
   "metadata": {},
   "outputs": [
    {
     "data": {
      "text/plain": [
       "2.7755575615628914e-17"
      ]
     },
     "execution_count": 11,
     "metadata": {},
     "output_type": "execute_result"
    }
   ],
   "source": [
    "0.1 + (0.2 + -0.3)"
   ]
  },
  {
   "cell_type": "code",
   "execution_count": 12,
   "metadata": {},
   "outputs": [
    {
     "data": {
      "text/plain": [
       "5.551115123125783e-17"
      ]
     },
     "execution_count": 12,
     "metadata": {},
     "output_type": "execute_result"
    }
   ],
   "source": [
    "(0.1+0.2) + -0.3"
   ]
  },
  {
   "cell_type": "markdown",
   "metadata": {},
   "source": [
    "I guess that addition is *not* commutative."
   ]
  }
 ],
 "metadata": {
  "kernelspec": {
   "display_name": "Python 3",
   "language": "python",
   "name": "python3"
  },
  "language_info": {
   "codemirror_mode": {
    "name": "ipython",
    "version": 3
   },
   "file_extension": ".py",
   "mimetype": "text/x-python",
   "name": "python",
   "nbconvert_exporter": "python",
   "pygments_lexer": "ipython3",
   "version": "3.6.0"
  }
 },
 "nbformat": 4,
 "nbformat_minor": 1
}
